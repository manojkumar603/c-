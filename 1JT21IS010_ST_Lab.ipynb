{
 "cells": [
  {
   "cell_type": "code",
   "execution_count": 3,
   "id": "f16b1ef9-b880-4e6b-b968-df34e852727b",
   "metadata": {},
   "outputs": [
    {
     "name": "stdout",
     "output_type": "stream",
     "text": [
      "Enter the total number of locks:  30\n",
      "Enter the total number of stocks:  40\n",
      "Enter the total number of barrels:  50\n"
     ]
    },
    {
     "name": "stdout",
     "output_type": "stream",
     "text": [
      "The total sales is 3800\n",
      "The commission is 620.0\n"
     ]
    }
   ],
   "source": [
    "import sys\n",
    "\n",
    "def main():\n",
    "    locks, stocks, barrels, t_sales, flag = 0, 0, 0, 0, 0\n",
    "    commission = 0.0\n",
    "\n",
    "    locks = int(input(\"Enter the total number of locks: \"))\n",
    "    if (locks <= 0) or (locks > 70):\n",
    "        flag = 1\n",
    "\n",
    "    stocks = int(input(\"Enter the total number of stocks: \"))\n",
    "    if (stocks <= 0) or (stocks > 80):\n",
    "        flag = 1\n",
    "\n",
    "    barrels = int(input(\"Enter the total number of barrels: \"))\n",
    "    if (barrels <= 0) or (barrels > 90):\n",
    "        flag = 1\n",
    "\n",
    "    if flag == 1:\n",
    "        print(\"Out of range\")\n",
    "        sys.exit(0)\n",
    "\n",
    "    t_sales = (locks * 45) + (stocks * 30) + (barrels * 25)\n",
    "    if t_sales <= 1000:\n",
    "        commission = 0.10 * t_sales\n",
    "    elif t_sales < 1800:\n",
    "        commission = 0.10 * 1000\n",
    "        commission += 0.15 * (t_sales - 1000)\n",
    "    else:\n",
    "        commission = 0.10 * 1000\n",
    "        commission += 0.15 * 800\n",
    "        commission += 0.20 * (t_sales - 1800)\n",
    "\n",
    "    print(f\"The total sales is {t_sales}\\nThe commission is {commission}\")\n",
    "\n",
    "if __name__ == \"__main__\":\n",
    "    main()"
   ]
  },
  {
   "cell_type": "code",
   "execution_count": null,
   "id": "bbf994fd-9cff-4323-8785-887a39620e3c",
   "metadata": {},
   "outputs": [
    {
     "name": "stdout",
     "output_type": "stream",
     "text": [
      "\n",
      "Enter today's date in the form of dd mm yyyy\n"
     ]
    },
    {
     "name": "stdout",
     "output_type": "stream",
     "text": [
      " 15 -1 1912\n"
     ]
    },
    {
     "name": "stdout",
     "output_type": "stream",
     "text": [
      "Invalid month. Value of month, not in the range 1....12\n",
      "\n",
      "Enter today's date in the form of dd mm yyyy\n"
     ]
    },
    {
     "name": "stdout",
     "output_type": "stream",
     "text": [
      " -1 6 1912\n"
     ]
    },
    {
     "name": "stdout",
     "output_type": "stream",
     "text": [
      "Invalid day. Value of day, not in the range 1...31\n",
      "\n",
      "Enter today's date in the form of dd mm yyyy\n"
     ]
    },
    {
     "name": "stdout",
     "output_type": "stream",
     "text": [
      " 15 6 1811\n"
     ]
    },
    {
     "name": "stdout",
     "output_type": "stream",
     "text": [
      "Invalid Year. Value of year, not in the range 1812.......2012\n",
      "\n",
      "Enter today's date in the form of dd mm yyyy\n"
     ]
    },
    {
     "name": "stdout",
     "output_type": "stream",
     "text": [
      " -1 -1 1912\n"
     ]
    },
    {
     "name": "stdout",
     "output_type": "stream",
     "text": [
      "Invalid day. Value of day, not in the range 1...31\n",
      "Invalid month. Value of month, not in the range 1....12\n",
      "\n",
      "Enter today's date in the form of dd mm yyyy\n"
     ]
    }
   ],
   "source": [
    "import calendar\n",
    "\n",
    "def check(day, month):\n",
    "    if (month in [4, 6, 9, 11]) and day == 31:\n",
    "        return 1\n",
    "    else:\n",
    "        return 0\n",
    "\n",
    "def isleap(year):\n",
    "    if (year % 4 == 0 and year % 100 != 0) or year % 400 == 0:\n",
    "        return 1\n",
    "    else:\n",
    "        return 0\n",
    "\n",
    "def main():\n",
    "    while True:\n",
    "        flag = 'y'\n",
    "        print(\"\\nEnter today's date in the form of dd mm yyyy\")\n",
    "        day, month, year = map(int, input().split())\n",
    "        tomm_month = month\n",
    "        tomm_year = year\n",
    "\n",
    "        if day < 1 or day > 31:\n",
    "            print(\"Invalid day. Value of day, not in the range 1...31\")\n",
    "            flag = 'n'\n",
    "        if month < 1 or month > 12:\n",
    "            print(\"Invalid month. Value of month, not in the range 1....12\")\n",
    "            flag = 'n'\n",
    "        elif check(day, month):\n",
    "            print(\"Invalid day. Value of day, not in the range day<=30\")\n",
    "            flag = 'n'\n",
    "\n",
    "        if year <= 1812 or year > 2012:\n",
    "            print(\"Invalid Year. Value of year, not in the range 1812.......2012\")\n",
    "            flag = 'n'\n",
    "\n",
    "        if month == 2:\n",
    "            if isleap(year) and day > 29:\n",
    "                print(\"Invalid date input for leap year\")\n",
    "                flag = 'n'\n",
    "            elif not isleap(year) and day > 28:\n",
    "                print(\"Invalid date input for not a leap year\")\n",
    "                flag = 'n'\n",
    "\n",
    "        if flag == 'n':\n",
    "            continue\n",
    "\n",
    "        if month in [1, 3, 5, 7, 8, 10]:\n",
    "            if day < 31:\n",
    "                tomm_day = day + 1\n",
    "            else:\n",
    "                tomm_day = 1\n",
    "                tomm_month = month + 1\n",
    "        elif month in [4, 6, 9, 11]:\n",
    "            if day < 30:\n",
    "                tomm_day = day + 1\n",
    "            else:\n",
    "                tomm_day = 1\n",
    "                tomm_month = month + 1\n",
    "        elif month == 12:\n",
    "            if day < 31:\n",
    "                tomm_day = day + 1\n",
    "            else:\n",
    "                tomm_day = 1\n",
    "                tomm_month = 1\n",
    "                if year == 2012:\n",
    "                    print(\"The next day is out of boundary value of year\")\n",
    "                    tomm_year = year + 1\n",
    "                else:\n",
    "                    tomm_year = year + 1\n",
    "        elif month == 2:\n",
    "            if day < 28:\n",
    "                tomm_day = day + 1\n",
    "            elif isleap(year) and day == 28:\n",
    "                tomm_day = day + 1\n",
    "            elif day == 28 or day == 29:\n",
    "                tomm_day = 1\n",
    "                tomm_month = 3\n",
    "\n",
    "        print(f\"Next day is : {tomm_day} {tomm_month} {tomm_year}\")\n",
    "        break\n",
    "\n",
    "if __name__ == \"__main__\":\n",
    "    main()"
   ]
  },
  {
   "cell_type": "code",
   "execution_count": 2,
   "id": "3e25232c-18d9-4aa1-a112-a5f2189fa88c",
   "metadata": {},
   "outputs": [
    {
     "name": "stdout",
     "output_type": "stream",
     "text": [
      "Enter the value of n:\n",
      " 5\n"
     ]
    },
    {
     "name": "stdout",
     "output_type": "stream",
     "text": [
      "Enter 5 elements in ASCENDING order\n"
     ]
    },
    {
     "name": "stdout",
     "output_type": "stream",
     "text": [
      " 10\n",
      " 20\n",
      " 30\n",
      " 40\n",
      " 50\n",
      "Enter the key element to be searched\n",
      " 20\n"
     ]
    },
    {
     "name": "stdout",
     "output_type": "stream",
     "text": [
      "Successful search\n",
      " Element found at Location 2\n"
     ]
    }
   ],
   "source": [
    "import sys\n",
    "\n",
    "def binary_search():\n",
    "    a = []\n",
    "    n = int(input(\"Enter the value of n:\\n\"))\n",
    "    if n > 0:\n",
    "        print(f\"Enter {n} elements in ASCENDING order\")\n",
    "        a = [int(input()) for _ in range(n)]\n",
    "        key = int(input(\"Enter the key element to be searched\\n\"))\n",
    "        low = 0\n",
    "        high = n - 1\n",
    "        while low <= high:\n",
    "            mid = (low + high) // 2\n",
    "            if a[mid] == key:\n",
    "                print(f\"Successful search\\n Element found at Location {mid + 1}\")\n",
    "                return\n",
    "            elif a[mid] < key:\n",
    "                low = mid + 1\n",
    "            else:\n",
    "                high = mid - 1\n",
    "                \n",
    "        print(\"Key Element not found\")\n",
    "    else:\n",
    "        print(\"Wrong input\")\n",
    "\n",
    "if __name__ == \"__main__\":\n",
    "    binary_search()"
   ]
  },
  {
   "cell_type": "code",
   "execution_count": 1,
   "id": "0b171219-5f3a-4797-8f95-5cbe19d6b24d",
   "metadata": {},
   "outputs": [
    {
     "name": "stdout",
     "output_type": "stream",
     "text": [
      "Enter three sides of the triangle:  1 2 2 \n"
     ]
    },
    {
     "name": "stdout",
     "output_type": "stream",
     "text": [
      "Isosceles triangle\n"
     ]
    }
   ],
   "source": [
    "import sys\n",
    "\n",
    "a, b, c = map(int, input(\"Enter three sides of the triangle: \").split())\n",
    "\n",
    "if a > 10 or b > 10 or c > 10:\n",
    "    print(\"Out of range\")\n",
    "    sys.exit(0)\n",
    "\n",
    "if a < b + c and b < a + c and c < a + b:\n",
    "    if a == b == c:\n",
    "        print(\"Equilateral triangle\")\n",
    "    elif a == b != c or a!= b == c or a == c!=b:\n",
    "        print(\"Isosceles triangle\")\n",
    "    else:\n",
    "        print(\"Scalene triangle\")\n",
    "else:\n",
    "    print(\"Invalid input\")"
   ]
  },
  {
   "cell_type": "code",
   "execution_count": 5,
   "id": "c3925876-7785-431a-99b4-fcdce4c3b22a",
   "metadata": {},
   "outputs": [
    {
     "name": "stdin",
     "output_type": "stream",
     "text": [
      "Enter the year (1812-2012):  2012\n",
      "Enter the month:  12\n",
      "Enter the day:  31\n"
     ]
    },
    {
     "name": "stdout",
     "output_type": "stream",
     "text": [
      "The next date is: Out of year range\n"
     ]
    }
   ],
   "source": [
    "import datetime\n",
    "\n",
    "def next_date(year, month, day):\n",
    "    try:\n",
    "        date = datetime.date(year, month, day)\n",
    "        next_day = date + datetime.timedelta(days=1)\n",
    "        \n",
    "        if next_day.year > 2012:\n",
    "            return \"Out of year range\"\n",
    "        \n",
    "        return next_day\n",
    "    except ValueError as e:\n",
    "        return str(e)\n",
    "\n",
    "def main():\n",
    "    try:\n",
    "        year = int(input(\"Enter the year (1812-2012): \"))\n",
    "        if year < 1812 or year > 2012:\n",
    "            print(\"Year must be between 1812 and 2012.\")\n",
    "            return\n",
    "        \n",
    "        month = int(input(\"Enter the month: \"))\n",
    "        day = int(input(\"Enter the day: \"))\n",
    "        \n",
    "        next_day = next_date(year, month, day)\n",
    "        print(\"The next date is:\", next_day)\n",
    "    except ValueError:\n",
    "        print(\"Invalid input. Please enter valid numbers for year, month, and day.\")\n",
    "\n",
    "if __name__ == \"__main__\":\n",
    "    main()\n"
   ]
  },
  {
   "cell_type": "code",
   "execution_count": 11,
   "id": "1ffa7d05",
   "metadata": {},
   "outputs": [
    {
     "name": "stdin",
     "output_type": "stream",
     "text": [
      "Enter the date (DD-MM-YYYY):  12-04-2002\n"
     ]
    },
    {
     "name": "stdout",
     "output_type": "stream",
     "text": [
      "The next date is: 13-04-2002\n"
     ]
    }
   ],
   "source": [
    "import datetime\n",
    "\n",
    "def next_date(date_str):\n",
    "    try:\n",
    "        date = datetime.datetime.strptime(date_str, \"%d-%m-%Y\").date()\n",
    "        if not (1912 <= date.year <= 2012):\n",
    "            return \"Year must be between 1912 and 2012.\"\n",
    "        next_day = date + datetime.timedelta(days=1)\n",
    "        return next_day.strftime(\"%d-%m-%Y\")\n",
    "    except ValueError as e:\n",
    "        return \"Invalid date format. Please enter the date in DD-MM-YYYY format.\"\n",
    "\n",
    "def main():\n",
    "    date_str = input(\"Enter the date (DD-MM-YYYY): \")\n",
    "    next_day = next_date(date_str)\n",
    "    print(\"The next date is:\", next_day)\n",
    "\n",
    "if __name__ == \"__main__\":\n",
    "    main()"
   ]
  },
  {
   "cell_type": "code",
   "execution_count": null,
   "id": "ac110582",
   "metadata": {},
   "outputs": [],
   "source": []
  }
 ],
 "metadata": {
  "kernelspec": {
   "display_name": "Python 3 (ipykernel)",
   "language": "python",
   "name": "python3"
  },
  "language_info": {
   "codemirror_mode": {
    "name": "ipython",
    "version": 3
   },
   "file_extension": ".py",
   "mimetype": "text/x-python",
   "name": "python",
   "nbconvert_exporter": "python",
   "pygments_lexer": "ipython3",
   "version": "3.12.4"
  }
 },
 "nbformat": 4,
 "nbformat_minor": 5
}
